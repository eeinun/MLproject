{
 "cells": [
  {
   "cell_type": "markdown",
   "id": "9f8a23a5-df60-4a53-9ba5-a796ff08ba3b",
   "metadata": {},
   "source": [
    "## 데이터셋 생성"
   ]
  },
  {
   "cell_type": "code",
   "execution_count": 5,
   "id": "3616ba85-4be5-44f5-ac05-e17a70522409",
   "metadata": {
    "tags": []
   },
   "outputs": [],
   "source": [
    "import time\n",
    "import tensorflow as tf\n",
    "import os\n",
    "os.environ['TF_CPP_MIN_LOG_LEVEL'] = '3'\n",
    "import numpy as np\n",
    "from tensorflow.keras import layers\n",
    "import matplotlib.pyplot as plt"
   ]
  },
  {
   "cell_type": "markdown",
   "id": "e22589a5-c04c-4832-82d3-7c0314c1b201",
   "metadata": {},
   "source": [
    "### Swish 활성화 함수 클래스 정의"
   ]
  },
  {
   "cell_type": "code",
   "execution_count": 2,
   "id": "976c6f9a-f662-4bb2-a4ff-24a74a6b79d8",
   "metadata": {},
   "outputs": [],
   "source": [
    "from tensorflow import keras\n",
    "@keras.utils.register_keras_serializable() # 모델 저장 후 로드에 사용할 수 있도록하는 어노테이션\n",
    "class Swish(tf.keras.layers.Layer):\n",
    "    def call(self, x):\n",
    "        return x * tf.keras.activations.sigmoid(x)"
   ]
  },
  {
   "cell_type": "code",
   "execution_count": 3,
   "id": "80f3f51a-03a1-44c6-aa9f-12a5007ef66b",
   "metadata": {
    "tags": []
   },
   "outputs": [],
   "source": [
    "from tensorflow.keras.preprocessing.image import load_img, img_to_array\n",
    "\n",
    "\n",
    "def preprocess_image(image_path):\n",
    "    img = load_img(image_path, target_size=(224, 224))\n",
    "    img_array = img_to_array(img)\n",
    "    img_array = np.expand_dims(img_array, axis=0)\n",
    "    return img_array"
   ]
  },
  {
   "cell_type": "code",
   "execution_count": 6,
   "id": "d91e3438-dfe7-4d1b-a48a-cac930c2482a",
   "metadata": {
    "tags": []
   },
   "outputs": [
    {
     "name": "stdout",
     "output_type": "stream",
     "text": [
      "\u001b[1m1/1\u001b[0m \u001b[32m━━━━━━━━━━━━━━━━━━━━\u001b[0m\u001b[37m\u001b[0m \u001b[1m1s\u001b[0m 1s/step\n",
      "화재_비정상\n"
     ]
    }
   ],
   "source": [
    "class_map = [\n",
    "    \"낙하_비정상\", \"낙하_정상\",\n",
    "    \"전도_비정상\", \"전도_정상\",\n",
    "    \"추락_비정상\", \"추락_정상\",\n",
    "    \"협착_비정상\", \"협착_정상\",\n",
    "    \"화재_비정상\", \"화재_정상\",\n",
    "]\n",
    "model = tf.keras.models.load_model(\"./model/batch64-adam-lr002-dr05-acc.keras\")\n",
    "pred = model.predict(preprocess_image(\"/mnt/d/Exa/data/Test/화재_비정상/H-221020_D15_N-36_007_0001.jpg\"))\n",
    "print(class_map[pred.argmax()])"
   ]
  }
 ],
 "metadata": {
  "kernelspec": {
   "display_name": "Python 3 (ipykernel)",
   "language": "python",
   "name": "python3"
  },
  "language_info": {
   "codemirror_mode": {
    "name": "ipython",
    "version": 3
   },
   "file_extension": ".py",
   "mimetype": "text/x-python",
   "name": "python",
   "nbconvert_exporter": "python",
   "pygments_lexer": "ipython3",
   "version": "3.10.12"
  }
 },
 "nbformat": 4,
 "nbformat_minor": 5
}
