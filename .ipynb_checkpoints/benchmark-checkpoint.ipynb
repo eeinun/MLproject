{
 "cells": [
  {
   "cell_type": "markdown",
   "id": "9f8a23a5-df60-4a53-9ba5-a796ff08ba3b",
   "metadata": {},
   "source": [
    "## 데이터셋 생성"
   ]
  },
  {
   "cell_type": "code",
   "execution_count": null,
   "id": "3616ba85-4be5-44f5-ac05-e17a70522409",
   "metadata": {
    "tags": []
   },
   "outputs": [],
   "source": [
    "import time\n",
    "import tensorflow as tf\n",
    "from tensorflow.keras import layers\n",
    "import matplotlib.pyplot as plt"
   ]
  },
  {
   "cell_type": "code",
   "execution_count": null,
   "id": "e471d562-5400-4e81-a5d5-5bb267796fba",
   "metadata": {
    "tags": []
   },
   "outputs": [],
   "source": [
    "# config\n",
    "root_dir = \"/mnt/d/Exa/227.건설 현장 위험 상태 판단 데이터/01-1.정식개방데이터/Minisample/\"\n",
    "makeset = tf.keras.utils.image_dataset_from_directory\n",
    "class_type = [\"binary\", \"categorical\"][1]\n",
    "\n",
    "# make dataset\n",
    "batch_size = 64\n",
    "image_size = (224, 224)\n",
    "seed = 9140183 # random number\n",
    "train_set = makeset(\n",
    "    f\"{root_dir}train\",\n",
    "    image_size=image_size,\n",
    "    batch_size=batch_size,\n",
    "    seed=seed,\n",
    "    label_mode=class_type\n",
    ")\n",
    "valid_set = makeset(\n",
    "    f\"{root_dir}validation\",\n",
    "    image_size=image_size,\n",
    "    batch_size=batch_size,\n",
    "    seed=seed,\n",
    "    label_mode=class_type\n",
    ")\n",
    "train_set.shuffle(buffer_size=200000)"
   ]
  },
  {
   "cell_type": "code",
   "execution_count": null,
   "id": "ceffa007-8ac0-4b40-91cd-3a46ce4dc722",
   "metadata": {
    "tags": []
   },
   "outputs": [],
   "source": [
    "# check dataset\n",
    "category_num = 0\n",
    "for d, l in train_set:\n",
    "    _, category_num = l.shape\n",
    "    print(f\"data batch size: {d.shape} / label batch size: {l.shape}\")\n",
    "    break\n",
    "if category_num == 1:\n",
    "\tassert class_type == \"binary\", \"분류 설정 오류\"\n",
    "elif category_num >= 2:\n",
    "\tassert class_type == \"categorical\", \"분류 설정 오류\"\n",
    "else:\n",
    "\traise Exception(\"검증 데이터셋 오류\")"
   ]
  },
  {
   "cell_type": "code",
   "execution_count": null,
   "id": "d899febe-88a4-4a39-bf27-77279f205371",
   "metadata": {
    "tags": []
   },
   "outputs": [],
   "source": [
    "ref_model = tf.keras.applications.EfficientNetB0(weights=None) # 처음부터 다시 훈련: weights=None\n",
    "base_model = tf.keras.models.Model(\n",
    "\tinputs=ref_model.input,\n",
    "\toutputs=ref_model.layers[-2].output\n",
    ")\n",
    "\n",
    "x = base_model.output\n",
    "if class_type == \"binary\":\n",
    "    predictions = layers.Dense(1, activation = \"sigmoid\")(x)\n",
    "else:\n",
    "    predictions = layers.Dense(category_num, activation=\"softmax\")(x)\n",
    "\n",
    "model = tf.keras.models.Model(inputs=base_model.input, outputs=predictions)\n",
    "loss_function = f\"{class_type}_crossentropy\"\n",
    "model.compile(loss=loss_function, optimizer=\"rmsprop\", metrics=[\"accuracy\"])"
   ]
  },
  {
   "cell_type": "code",
   "execution_count": null,
   "id": "3bfce2fa-9b90-4c67-a7bd-a78d14b3e409",
   "metadata": {
    "tags": []
   },
   "outputs": [],
   "source": [
    "# benchmark\n",
    "start = time.time()\n",
    "history = model.fit(\n",
    "    train_set,\n",
    "    epochs=5,\n",
    "    validation_data=valid_set\n",
    ")\n",
    "end = time.time()\n",
    "print(f\"Time spent: {int((end - start) // 60)}m {(end - start) % 60:.3f}s\")"
   ]
  },
  {
   "cell_type": "code",
   "execution_count": null,
   "id": "730a408f-67dc-4313-8246-66c2473c88a5",
   "metadata": {
    "tags": []
   },
   "outputs": [],
   "source": [
    "# plot\n",
    "epochs = range(1, len(history.history[\"accuracy\"]) + 1)\n",
    "loss = history.history[\"accuracy\"]\n",
    "val_loss = history.history[\"val_accuracy\"]\n",
    "plt.figure()\n",
    "plt.plot(epochs, loss, \"bo\", label=\"Training accuracy\")\n",
    "plt.plot(epochs, val_loss, \"b\", label=\"Validation accuracy\")\n",
    "plt.legend()"
   ]
  }
 ],
 "metadata": {
  "kernelspec": {
   "display_name": "Python 3 (ipykernel)",
   "language": "python",
   "name": "python3"
  },
  "language_info": {
   "codemirror_mode": {
    "name": "ipython",
    "version": 3
   },
   "file_extension": ".py",
   "mimetype": "text/x-python",
   "name": "python",
   "nbconvert_exporter": "python",
   "pygments_lexer": "ipython3",
   "version": "3.10.12"
  }
 },
 "nbformat": 4,
 "nbformat_minor": 5
}
